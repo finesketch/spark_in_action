{
 "cells": [
  {
   "cell_type": "markdown",
   "metadata": {},
   "source": [
    "### Compute 𝜋 "
   ]
  },
  {
   "cell_type": "code",
   "execution_count": 1,
   "metadata": {},
   "outputs": [
    {
     "name": "stdout",
     "output_type": "stream",
     "text": [
      "Requirement already satisfied: pyspark==2.4.5 in /home/jupyterlab/conda/envs/python/lib/python3.6/site-packages (2.4.5)\n",
      "Requirement already satisfied: py4j==0.10.7 in /home/jupyterlab/conda/envs/python/lib/python3.6/site-packages (from pyspark==2.4.5) (0.10.7)\n",
      "Apache Spark session created.\n"
     ]
    }
   ],
   "source": [
    "from IPython.display import Markdown, display\n",
    "def printmd(string):\n",
    "    display(Markdown('# <span style=\"color:red\">'+string+'</span>'))\n",
    "\n",
    "if ('sc' in locals() or 'sc' in globals()):\n",
    "    printmd('<<<<<!!!!! It seems that you are running in a IBM Watson Studio Apache Spark Notebook. Please run it in an IBM Watson Studio Default Runtime (without Apache Spark) !!!!!>>>>>')\n",
    "\n",
    "!pip install pyspark==2.4.5\n",
    "\n",
    "try:\n",
    "    from pyspark import SparkContext, SparkConf\n",
    "    from pyspark.sql import SparkSession\n",
    "except ImportError as e:\n",
    "    printmd('<<<<<!!!!! Please restart your kernel after installing Apache Spark !!!!!>>>>>')\n",
    "    \n",
    "sc = SparkContext.getOrCreate(SparkConf().setMaster(\"local[*]\"))\n",
    "\n",
    "spark = SparkSession \\\n",
    "    .builder \\\n",
    "    .getOrCreate()\n",
    "\n",
    "print(\"Apache Spark session created.\")"
   ]
  },
  {
   "cell_type": "code",
   "execution_count": null,
   "metadata": {},
   "outputs": [
    {
     "name": "stdout",
     "output_type": "stream",
     "text": [
      "About to throw 1000000000 darts, ready? Stay away from the target!\n",
      "Session initialized in 813 ms\n"
     ]
    }
   ],
   "source": [
    "import time\n",
    "from pyspark.sql import SparkSession\n",
    "from random import random\n",
    "from operator import add\n",
    "\n",
    "slices = 100\n",
    "numberOfThrows = 100000 * slices\n",
    "print(\"About to throw {} darts, ready? Stay away from the target!\".format(numberOfThrows))\n",
    "\n",
    "t0 = int(round(time.time() * 1000))\n",
    "\n",
    "spark = SparkSession.builder.appName(\"PySpark Pi\") \\\n",
    "    .master(\"local[*]\").getOrCreate()\n",
    "\n",
    "t1 = int(round(time.time() * 1000))\n",
    "\n",
    "print(\"Session initialized in {} ms\".format(t1 - t0))\n",
    "\n",
    "numList = []\n",
    "\n",
    "for x in range(numberOfThrows):\n",
    "    numList.append(x)\n",
    "\n",
    "incrementalRDD = spark.sparkContext.parallelize(numList)\n",
    "\n",
    "t2 = int(round(time.time() * 1000))\n",
    "print(\"Initial dataframe built in {} ms\".format(t2 - t1))\n",
    "\n",
    "def throwDarts(_):\n",
    "    x = random() * 2 - 1\n",
    "    y = random() * 2 - 1\n",
    "    return 1 if x ** 2 + y ** 2 <= 1 else 0\n",
    "\n",
    "dartsRDD = incrementalRDD.map(throwDarts)\n",
    "\n",
    "t3 = int(round(time.time() * 1000))\n",
    "print(\"Throwing darts done in {} ms\".format(t3 - t2))\n",
    "\n",
    "dartsInCircle = dartsRDD.reduce(add)\n",
    "t4 = int(round(time.time() * 1000))\n",
    "\n",
    "print(\"Analyzing result in {} ms\".format(t4 - t3))\n",
    "\n",
    "print(\"Pi is roughly {}\".format(4.0 * dartsInCircle/numberOfThrows))\n",
    "\n",
    "spark.stop()"
   ]
  },
  {
   "cell_type": "code",
   "execution_count": null,
   "metadata": {},
   "outputs": [],
   "source": []
  },
  {
   "cell_type": "code",
   "execution_count": null,
   "metadata": {},
   "outputs": [],
   "source": []
  }
 ],
 "metadata": {
  "kernelspec": {
   "display_name": "Python",
   "language": "python",
   "name": "conda-env-python-py"
  },
  "language_info": {
   "codemirror_mode": {
    "name": "ipython",
    "version": 3
   },
   "file_extension": ".py",
   "mimetype": "text/x-python",
   "name": "python",
   "nbconvert_exporter": "python",
   "pygments_lexer": "ipython3",
   "version": "3.6.10"
  }
 },
 "nbformat": 4,
 "nbformat_minor": 4
}
