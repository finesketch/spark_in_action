{
 "cells": [
  {
   "cell_type": "markdown",
   "metadata": {},
   "source": [
    "### Transformation and Action"
   ]
  },
  {
   "cell_type": "code",
   "execution_count": 2,
   "metadata": {},
   "outputs": [],
   "source": [
    "from pyspark.sql.functions import (lit,col,concat,split,expr)\n",
    "import os\n",
    "from pyspark.sql import functions as F\n",
    "import json\n",
    "\n",
    "from pyspark.sql.types import StructType,StructField,StringType\n",
    "\n",
    "import time"
   ]
  },
  {
   "cell_type": "code",
   "execution_count": 3,
   "metadata": {},
   "outputs": [
    {
     "name": "stdout",
     "output_type": "stream",
     "text": [
      "Requirement already satisfied: pyspark==2.4.5 in /home/jupyterlab/conda/envs/python/lib/python3.6/site-packages (2.4.5)\n",
      "Requirement already satisfied: py4j==0.10.7 in /home/jupyterlab/conda/envs/python/lib/python3.6/site-packages (from pyspark==2.4.5) (0.10.7)\n",
      "Apache Spark session created.\n",
      "1. Creating a session ........... 25554\n",
      "2. Loading initial dataset ...... 40086\n",
      "3. Building full dataset ........ 5474\n",
      "4. Clean-up ..................... 102\n",
      "5. Transformations  ............. 1799\n",
      "6. Final action ................. 240446\n",
      "\n",
      "# of records .................... <bound method DataFrame.count of DataFrame[Year: int, State: string, County: string, State FIPS Code: int, County FIPS Code: int, Combined FIPS Code: int, Birth Rate: double, lcl: double, ucl: double, avg: double, lcl2: double, ucl2: double]>\n"
     ]
    }
   ],
   "source": [
    "# start time\n",
    "t0 = int(round(time.time() * 1000))\n",
    "\n",
    "from IPython.display import Markdown, display\n",
    "def printmd(string):\n",
    "    display(Markdown('# <span style=\"color:red\">'+string+'</span>'))\n",
    "\n",
    "if ('sc' in locals() or 'sc' in globals()):\n",
    "    printmd('<<<<<!!!!! It seems that you are running in a IBM Watson Studio Apache Spark Notebook. Please run it in an IBM Watson Studio Default Runtime (without Apache Spark) !!!!!>>>>>')\n",
    "\n",
    "!pip install pyspark==2.4.5\n",
    "\n",
    "try:\n",
    "    from pyspark import SparkContext, SparkConf\n",
    "    from pyspark.sql import SparkSession\n",
    "except ImportError as e:\n",
    "    printmd('<<<<<!!!!! Please restart your kernel after installing Apache Spark !!!!!>>>>>')\n",
    "    \n",
    "sc = SparkContext.getOrCreate(SparkConf().setMaster(\"local[*]\"))\n",
    "\n",
    "spark = SparkSession \\\n",
    "    .builder \\\n",
    "    .getOrCreate()\n",
    "\n",
    "print(\"Apache Spark session created.\")\n",
    "\n",
    "\n",
    "\n",
    "\n",
    "current_dir = os.path.dirname(\"\")\n",
    "relative_path = \"../04 Laziness/data/NCHS_-_Teen_Birth_Rates_for_Age_Group_15-19_in_the_United_States_by_County.csv\"\n",
    "absolute_file_path = os.path.join(current_dir, relative_path)\n",
    "\n",
    "absolute_file_path\n",
    "\n",
    "mode=\"\"\n",
    "\n",
    "#t0 = int(round(time.time() * 1000))\n",
    "\n",
    "t1 = int(round(time.time() * 1000))\n",
    "\n",
    "print(\"1. Creating a session ........... {}\".format(t1 - t0))\n",
    "\n",
    "# Step 2 - Reads a CSV file with header, stores it in a dataframe\n",
    "df = spark.read.csv(header=True, inferSchema=True,path=absolute_file_path)\n",
    "\n",
    "initalDf = df\n",
    "t2 = int(round(time.time() * 1000))\n",
    "print(\"2. Loading initial dataset ...... {}\".format(t2 - t1))\n",
    "\n",
    "# Step 3 - Build a bigger dataset\n",
    "for x in range(60):\n",
    "    df = df.union(initalDf)\n",
    "\n",
    "t3 = int(round(time.time() * 1000))\n",
    "print(\"3. Building full dataset ........ {}\".format(t3 - t2))\n",
    "\n",
    "# Step 4 - Cleanup. preparation\n",
    "df = df.withColumnRenamed(\"Lower Confidence Limit\", \"lcl\") \\\n",
    "       .withColumnRenamed(\"Upper Confidence Limit\", \"ucl\")\n",
    "\n",
    "t4 = int(round(time.time() * 1000))\n",
    "print(\"4. Clean-up ..................... {}\".format(t4 - t3))\n",
    "\n",
    "# Step 5 - Transformation\n",
    "if mode.lower != \"noop\":\n",
    "    df =  df.withColumn(\"avg\", expr(\"(lcl+ucl)/2\")) \\\n",
    "            .withColumn(\"lcl2\", col(\"lcl\")) \\\n",
    "            .withColumn(\"ucl2\", col(\"ucl\"))\n",
    "    if mode.lower == \"full\":\n",
    "        df = df.drop(\"avg\",\"lcl2\",\"ucl2\")\n",
    "\n",
    "\n",
    "t5 = int(round(time.time() * 1000))\n",
    "print(\"5. Transformations  ............. {}\".format(t5 - t4))\n",
    "\n",
    "# Step 6 - Action\n",
    "df.collect()\n",
    "t6 = int(round(time.time() * 1000))\n",
    "print(\"6. Final action ................. {}\".format(t6 - t5))\n",
    "\n",
    "print(\"\")\n",
    "print(\"# of records .................... {}\".format(df.count))"
   ]
  },
  {
   "cell_type": "code",
   "execution_count": 4,
   "metadata": {},
   "outputs": [
    {
     "data": {
      "text/plain": [
       "<bound method DataFrame.count of DataFrame[Year: int, State: string, County: string, State FIPS Code: int, County FIPS Code: int, Combined FIPS Code: int, Birth Rate: double, lcl: double, ucl: double, avg: double, lcl2: double, ucl2: double]>"
      ]
     },
     "execution_count": 4,
     "metadata": {},
     "output_type": "execute_result"
    }
   ],
   "source": [
    "df.count"
   ]
  },
  {
   "cell_type": "code",
   "execution_count": 5,
   "metadata": {},
   "outputs": [
    {
     "data": {
      "text/plain": [
       "StructType(List(StructField(Year,IntegerType,true),StructField(State,StringType,true),StructField(County,StringType,true),StructField(State FIPS Code,IntegerType,true),StructField(County FIPS Code,IntegerType,true),StructField(Combined FIPS Code,IntegerType,true),StructField(Birth Rate,DoubleType,true),StructField(lcl,DoubleType,true),StructField(ucl,DoubleType,true),StructField(avg,DoubleType,true),StructField(lcl2,DoubleType,true),StructField(ucl2,DoubleType,true)))"
      ]
     },
     "execution_count": 5,
     "metadata": {},
     "output_type": "execute_result"
    }
   ],
   "source": [
    "df.schema"
   ]
  },
  {
   "cell_type": "code",
   "execution_count": 6,
   "metadata": {},
   "outputs": [
    {
     "name": "stdout",
     "output_type": "stream",
     "text": [
      "root\n",
      " |-- Year: integer (nullable = true)\n",
      " |-- State: string (nullable = true)\n",
      " |-- County: string (nullable = true)\n",
      " |-- State FIPS Code: integer (nullable = true)\n",
      " |-- County FIPS Code: integer (nullable = true)\n",
      " |-- Combined FIPS Code: integer (nullable = true)\n",
      " |-- Birth Rate: double (nullable = true)\n",
      " |-- lcl: double (nullable = true)\n",
      " |-- ucl: double (nullable = true)\n",
      " |-- avg: double (nullable = true)\n",
      " |-- lcl2: double (nullable = true)\n",
      " |-- ucl2: double (nullable = true)\n",
      "\n"
     ]
    }
   ],
   "source": [
    "df.printSchema()"
   ]
  },
  {
   "cell_type": "code",
   "execution_count": null,
   "metadata": {},
   "outputs": [],
   "source": []
  }
 ],
 "metadata": {
  "kernelspec": {
   "display_name": "Python",
   "language": "python",
   "name": "conda-env-python-py"
  },
  "language_info": {
   "codemirror_mode": {
    "name": "ipython",
    "version": 3
   },
   "file_extension": ".py",
   "mimetype": "text/x-python",
   "name": "python",
   "nbconvert_exporter": "python",
   "pygments_lexer": "ipython3",
   "version": "3.6.10"
  }
 },
 "nbformat": 4,
 "nbformat_minor": 4
}
