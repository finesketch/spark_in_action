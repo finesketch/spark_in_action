{
 "cells": [
  {
   "cell_type": "code",
   "execution_count": null,
   "metadata": {},
   "outputs": [],
   "source": []
  },
  {
   "cell_type": "code",
   "execution_count": 2,
   "metadata": {},
   "outputs": [
    {
     "name": "stdout",
     "output_type": "stream",
     "text": [
      "== Physical Plan ==\n",
      "Union\n",
      ":- *(1) Project [Year#10, State#11, County#12, State FIPS Code#13, County FIPS Code#14, Combined FIPS Code#15, Birth Rate#16, Lower Confidence Limit#17 AS lcl#37, Upper Confidence Limit#18 AS ucl#47, ((Lower Confidence Limit#17 + Upper Confidence Limit#18) / 2.0) AS avg#57, Lower Confidence Limit#17 AS lcl2#68, Upper Confidence Limit#18 AS ucl2#80]\n",
      ":  +- *(1) FileScan csv [Year#10,State#11,County#12,State FIPS Code#13,County FIPS Code#14,Combined FIPS Code#15,Birth Rate#16,Lower Confidence Limit#17,Upper Confidence Limit#18] Batched: false, Format: CSV, Location: InMemoryFileIndex[file:/resources/spark_in_action/04 Laziness/data/NCHS_-_Teen_Birth_Rates_for_Ag..., PartitionFilters: [], PushedFilters: [], ReadSchema: struct<Year:int,State:string,County:string,State FIPS Code:int,County FIPS Code:int,Combined FIPS...\n",
      "+- *(2) Project [Year#10, State#11, County#12, State FIPS Code#13, County FIPS Code#14, Combined FIPS Code#15, Birth Rate#16, Lower Confidence Limit#17 AS lcl#93, Upper Confidence Limit#18 AS ucl#94, ((Lower Confidence Limit#17 + Upper Confidence Limit#18) / 2.0) AS avg#95, Lower Confidence Limit#17 AS lcl2#96, Upper Confidence Limit#18 AS ucl2#97]\n",
      "   +- *(2) FileScan csv [Year#10,State#11,County#12,State FIPS Code#13,County FIPS Code#14,Combined FIPS Code#15,Birth Rate#16,Lower Confidence Limit#17,Upper Confidence Limit#18] Batched: false, Format: CSV, Location: InMemoryFileIndex[file:/resources/spark_in_action/04 Laziness/data/NCHS_-_Teen_Birth_Rates_for_Ag..., PartitionFilters: [], PushedFilters: [], ReadSchema: struct<Year:int,State:string,County:string,State FIPS Code:int,County FIPS Code:int,Combined FIPS...\n"
     ]
    }
   ],
   "source": [
    "\"\"\"\n",
    "* Transformation explained.\n",
    "*\n",
    "* @author rambabu.posa\n",
    "\"\"\"\n",
    "from pyspark.sql import SparkSession\n",
    "from pyspark.sql.functions import (lit,col,concat,expr)\n",
    "import os\n",
    "\n",
    "current_dir = os.path.dirname(\"\")\n",
    "relative_path = \"../04 Laziness/data/NCHS_-_Teen_Birth_Rates_for_Age_Group_15-19_in_the_United_States_by_County.csv\"\n",
    "absolute_file_path = os.path.join(current_dir, relative_path)\n",
    "\n",
    "# Step 1 - Creates a session on a local master\n",
    "spark = SparkSession.builder.appName(\"Analysing Catalyst's behavior\") \\\n",
    "                    .master(\"local[*]\").getOrCreate()\n",
    "\n",
    "# Step 2 - Reads a CSV file with header, stores it in a dataframe\n",
    "df = spark.read.csv(header=True, inferSchema=True,path=absolute_file_path)\n",
    "\n",
    "df0 = df\n",
    "\n",
    "# Step 3 - Build a bigger dataset\n",
    "df = df.union(df0)\n",
    "\n",
    "# Step 4 - Cleanup. preparation\n",
    "df = df.withColumnRenamed(\"Lower Confidence Limit\", \"lcl\") \\\n",
    "       .withColumnRenamed(\"Upper Confidence Limit\", \"ucl\")\n",
    "\n",
    "# Step 5 - Transformation\n",
    "df =  df.withColumn(\"avg\", expr(\"(lcl+ucl)/2\")) \\\n",
    "        .withColumn(\"lcl2\", col(\"lcl\")) \\\n",
    "        .withColumn(\"ucl2\", col(\"ucl\"))\n",
    "\n",
    "# Step 6 - explain\n",
    "df.explain()\n",
    "\n",
    "spark.stop()"
   ]
  },
  {
   "cell_type": "code",
   "execution_count": null,
   "metadata": {},
   "outputs": [],
   "source": []
  },
  {
   "cell_type": "code",
   "execution_count": null,
   "metadata": {},
   "outputs": [],
   "source": []
  }
 ],
 "metadata": {
  "kernelspec": {
   "display_name": "Python",
   "language": "python",
   "name": "conda-env-python-py"
  },
  "language_info": {
   "codemirror_mode": {
    "name": "ipython",
    "version": 3
   },
   "file_extension": ".py",
   "mimetype": "text/x-python",
   "name": "python",
   "nbconvert_exporter": "python",
   "pygments_lexer": "ipython3",
   "version": "3.6.10"
  }
 },
 "nbformat": 4,
 "nbformat_minor": 4
}
