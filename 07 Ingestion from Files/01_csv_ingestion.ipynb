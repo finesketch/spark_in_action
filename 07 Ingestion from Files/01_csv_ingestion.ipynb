{
 "cells": [
  {
   "cell_type": "markdown",
   "metadata": {},
   "source": [
    "### csv_ingestion"
   ]
  },
  {
   "cell_type": "code",
   "execution_count": 2,
   "metadata": {},
   "outputs": [
    {
     "name": "stdout",
     "output_type": "stream",
     "text": [
      "Collecting pyspark==2.4.5\n",
      "\u001b[?25l  Downloading https://files.pythonhosted.org/packages/9a/5a/271c416c1c2185b6cb0151b29a91fff6fcaed80173c8584ff6d20e46b465/pyspark-2.4.5.tar.gz (217.8MB)\n",
      "\u001b[K     |████████████████████████████████| 217.8MB 78kB/s s eta 0:00:01    |██▍                             | 16.5MB 36.9MB/s eta 0:00:06     |█████▍                          | 36.8MB 5.5MB/s eta 0:00:33     |██████                          | 40.4MB 9.6MB/s eta 0:00:19.4MB 6.9MB/s eta 0:00:24.8MB 6.9MB/s eta 0:00:24     |█████████                       | 61.7MB 6.9MB/s eta 0:00:23��█████▍                      | 64.2MB 5.4MB/s eta 0:00:29     |█████████▉                      | 66.9MB 5.4MB/s eta 0:00:28     |████████████████▏               | 110.4MB 5.1MB/s eta 0:00:21     |█████████████████▉              | 121.2MB 5.6MB/s eta 0:00:18     |███████████████████▊            | 134.5MB 5.5MB/s eta 0:00:16     |████████████████████            | 135.4MB 5.5MB/s eta 0:00:15     |████████████████████▎           | 137.9MB 5.5MB/s eta 0:00:15     |████████████████████▊           | 140.9MB 5.5MB/s eta 0:00:14     |█████████████████████           | 142.5MB 5.5MB/s eta 0:00:14     |█████████████████████           | 143.2MB 5.5MB/s eta 0:00:14███████████████████████▍      | 172.9MB 44.0MB/s eta 0:00:02     |██████████████████████████▌     | 180.0MB 44.0MB/s eta 0:00:01�██▏| 212.0MB 44.5MB/s eta 0:00:01     |███████████████████████████████▉| 216.4MB 41.4MB/s eta 0:00:01\n",
      "\u001b[?25hCollecting py4j==0.10.7 (from pyspark==2.4.5)\n",
      "\u001b[?25l  Downloading https://files.pythonhosted.org/packages/e3/53/c737818eb9a7dc32a7cd4f1396e787bd94200c3997c72c1dbe028587bd76/py4j-0.10.7-py2.py3-none-any.whl (197kB)\n",
      "\u001b[K     |████████████████████████████████| 204kB 9.5MB/s eta 0:00:01\n",
      "\u001b[?25hBuilding wheels for collected packages: pyspark\n",
      "  Building wheel for pyspark (setup.py) ... \u001b[?25ldone\n",
      "\u001b[?25h  Stored in directory: /home/jupyterlab/.cache/pip/wheels/bf/db/04/61d66a5939364e756eb1c1be4ec5bdce6e04047fc7929a3c3c\n",
      "Successfully built pyspark\n",
      "Installing collected packages: py4j, pyspark\n",
      "Successfully installed py4j-0.10.7 pyspark-2.4.5\n",
      "Apache Spark session created.\n"
     ]
    }
   ],
   "source": [
    "from IPython.display import Markdown, display\n",
    "def printmd(string):\n",
    "    display(Markdown('# <span style=\"color:red\">'+string+'</span>'))\n",
    "\n",
    "if ('sc' in locals() or 'sc' in globals()):\n",
    "    printmd('<<<<<!!!!! It seems that you are running in a IBM Watson Studio Apache Spark Notebook. Please run it in an IBM Watson Studio Default Runtime (without Apache Spark) !!!!!>>>>>')\n",
    "\n",
    "!pip install pyspark==2.4.5\n",
    "\n",
    "try:\n",
    "    from pyspark import SparkContext, SparkConf\n",
    "    from pyspark.sql import SparkSession\n",
    "except ImportError as e:\n",
    "    printmd('<<<<<!!!!! Please restart your kernel after installing Apache Spark !!!!!>>>>>')\n",
    "    \n",
    "sc = SparkContext.getOrCreate(SparkConf().setMaster(\"local[*]\"))\n",
    "\n",
    "spark = SparkSession \\\n",
    "    .builder \\\n",
    "    .getOrCreate()\n",
    "\n",
    "print(\"Apache Spark session created.\")"
   ]
  },
  {
   "cell_type": "code",
   "execution_count": 3,
   "metadata": {},
   "outputs": [
    {
     "name": "stdout",
     "output_type": "stream",
     "text": [
      "Using Apache Spark v2.4.3\n",
      "Excerpt of the dataframe content:\n",
      "+---+--------+----------------------------------------------------------------------+-----------+-----------------------+\n",
      "| id|authorId|                                                                 title|releaseDate|                  link\n",
      "+---+--------+----------------------------------------------------------------------+-----------+-----------------------+\n",
      "|  1|       1|      Fantastic Beasts and Where to Find Them: The Original Screenplay| 11/18/2016|http://amzn.to/2kup94P\n",
      "|  2|       1|Harry Potter and the Sorcerer's Stone: The Illustrated Edition (Har...| 10/06/2015|http://amzn.to/2l2lSwP\n",
      "|  3|       1|         The Tales of Beedle the Bard, Standard Edition (Harry Potter)| 12/04/2008|http://amzn.to/2kYezqr\n",
      "|  4|       1|Harry Potter and the Chamber of Secrets: The Illustrated Edition (H...| 10/04/2016|http://amzn.to/2kYhL5n\n",
      "|  5|       2|Informix 12.10 on Mac 10.12 with a dash of Java 8: The Tale of the ...| 04/23/2017|http://amzn.to/2i3mthT\n",
      "|  6|       2|Development Tools in 2006: any Room for a 4GL-style Language? \n",
      "|n ...| 12/28/2016|http://amzn.to/2vBxOe1\n",
      "|  7|       3|                                        Adventures of Huckleberry Finn| 05/26/1994|http://amzn.to/2wOeOav\n",
      "+---+--------+----------------------------------------------------------------------+-----------+-----------------------+\n",
      "only showing top 7 rows\n",
      "\n",
      "Dataframe's schema:\n",
      "root\n",
      " |-- id: integer (nullable = true)\n",
      " |-- authorId: integer (nullable = true)\n",
      " |-- title: string (nullable = true)\n",
      " |-- releaseDate: string (nullable = true)\n",
      ": string (nullable = true)\n",
      "\n"
     ]
    },
    {
     "data": {
      "text/plain": [
       "<bound method SparkSession.stop of <pyspark.sql.session.SparkSession object at 0x7f182c52aef0>>"
      ]
     },
     "execution_count": 3,
     "metadata": {},
     "output_type": "execute_result"
    }
   ],
   "source": [
    "from pyspark.sql import SparkSession\n",
    "import os\n",
    "\n",
    "current_dir = os.path.dirname(\"\")\n",
    "relative_path = \"books.csv\"\n",
    "absolute_file_path = os.path.join(current_dir, relative_path)\n",
    "\n",
    "# Creates a session on a local master\n",
    "spark = SparkSession.builder.appName(\"Complex CSV to Dataframe\") \\\n",
    "    .master(\"local[*]\").getOrCreate()\n",
    "\n",
    "print(\"Using Apache Spark v{}\".format(spark.version))\n",
    "\n",
    "# Reads a CSV file with header, called books.csv, stores it in a\n",
    "# dataframe\n",
    "df = spark.read.format(\"csv\") \\\n",
    "        .option(\"header\", \"true\") \\\n",
    "        .option(\"multiline\", True) \\\n",
    "        .option(\"sep\", \";\") \\\n",
    "        .option(\"quote\", \"*\") \\\n",
    "        .option(\"dateFormat\", \"MM/dd/yyyy\") \\\n",
    "        .option(\"inferSchema\", True) \\\n",
    "        .load(absolute_file_path)\n",
    "\n",
    "print(\"Excerpt of the dataframe content:\")\n",
    "\n",
    "# Shows at most 7 rows from the dataframe, with columns as wide as 90\n",
    "# characters\n",
    "df.show(7, 70)\n",
    "print(\"Dataframe's schema:\")\n",
    "df.printSchema()\n",
    "\n",
    "spark.stop"
   ]
  },
  {
   "cell_type": "code",
   "execution_count": null,
   "metadata": {},
   "outputs": [],
   "source": []
  }
 ],
 "metadata": {
  "kernelspec": {
   "display_name": "Python",
   "language": "python",
   "name": "conda-env-python-py"
  },
  "language_info": {
   "codemirror_mode": {
    "name": "ipython",
    "version": 3
   },
   "file_extension": ".py",
   "mimetype": "text/x-python",
   "name": "python",
   "nbconvert_exporter": "python",
   "pygments_lexer": "ipython3",
   "version": "3.6.10"
  }
 },
 "nbformat": 4,
 "nbformat_minor": 4
}
