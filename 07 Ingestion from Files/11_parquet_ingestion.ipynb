{
 "cells": [
  {
   "cell_type": "markdown",
   "metadata": {},
   "source": [
    "### parquet_ingestion"
   ]
  },
  {
   "cell_type": "code",
   "execution_count": 1,
   "metadata": {},
   "outputs": [
    {
     "name": "stdout",
     "output_type": "stream",
     "text": [
      "Requirement already satisfied: pyspark==2.4.5 in /home/jupyterlab/conda/envs/python/lib/python3.6/site-packages (2.4.5)\n",
      "Requirement already satisfied: py4j==0.10.7 in /home/jupyterlab/conda/envs/python/lib/python3.6/site-packages (from pyspark==2.4.5) (0.10.7)\n",
      "Apache Spark session created.\n"
     ]
    }
   ],
   "source": [
    "from IPython.display import Markdown, display\n",
    "def printmd(string):\n",
    "    display(Markdown('# <span style=\"color:red\">'+string+'</span>'))\n",
    "\n",
    "if ('sc' in locals() or 'sc' in globals()):\n",
    "    printmd('<<<<<!!!!! It seems that you are running in a IBM Watson Studio Apache Spark Notebook. Please run it in an IBM Watson Studio Default Runtime (without Apache Spark) !!!!!>>>>>')\n",
    "\n",
    "!pip install pyspark==2.4.5\n",
    "\n",
    "try:\n",
    "    from pyspark import SparkContext, SparkConf\n",
    "    from pyspark.sql import SparkSession\n",
    "except ImportError as e:\n",
    "    printmd('<<<<<!!!!! Please restart your kernel after installing Apache Spark !!!!!>>>>>')\n",
    "    \n",
    "sc = SparkContext.getOrCreate(SparkConf().setMaster(\"local[*]\"))\n",
    "\n",
    "spark = SparkSession \\\n",
    "    .builder \\\n",
    "    .getOrCreate()\n",
    "\n",
    "print(\"Apache Spark session created.\")"
   ]
  },
  {
   "cell_type": "code",
   "execution_count": 3,
   "metadata": {},
   "outputs": [
    {
     "name": "stdout",
     "output_type": "stream",
     "text": [
      "+---+--------+-----------+------------+-------+----------+---------+----------+--------------------+----------+-------------------+\n",
      "| id|bool_col|tinyint_col|smallint_col|int_col|bigint_col|float_col|double_col|     date_string_col|string_col|      timestamp_col|\n",
      "+---+--------+-----------+------------+-------+----------+---------+----------+--------------------+----------+-------------------+\n",
      "|  4|    true|          0|           0|      0|         0|      0.0|       0.0|[30 33 2F 30 31 2...|      [30]|2009-03-01 00:00:00|\n",
      "|  5|   false|          1|           1|      1|        10|      1.1|      10.1|[30 33 2F 30 31 2...|      [31]|2009-03-01 00:01:00|\n",
      "|  6|    true|          0|           0|      0|         0|      0.0|       0.0|[30 34 2F 30 31 2...|      [30]|2009-04-01 00:00:00|\n",
      "|  7|   false|          1|           1|      1|        10|      1.1|      10.1|[30 34 2F 30 31 2...|      [31]|2009-04-01 00:01:00|\n",
      "|  2|    true|          0|           0|      0|         0|      0.0|       0.0|[30 32 2F 30 31 2...|      [30]|2009-02-01 00:00:00|\n",
      "|  3|   false|          1|           1|      1|        10|      1.1|      10.1|[30 32 2F 30 31 2...|      [31]|2009-02-01 00:01:00|\n",
      "|  0|    true|          0|           0|      0|         0|      0.0|       0.0|[30 31 2F 30 31 2...|      [30]|2009-01-01 00:00:00|\n",
      "|  1|   false|          1|           1|      1|        10|      1.1|      10.1|[30 31 2F 30 31 2...|      [31]|2009-01-01 00:01:00|\n",
      "+---+--------+-----------+------------+-------+----------+---------+----------+--------------------+----------+-------------------+\n",
      "\n",
      "root\n",
      " |-- id: integer (nullable = true)\n",
      " |-- bool_col: boolean (nullable = true)\n",
      " |-- tinyint_col: integer (nullable = true)\n",
      " |-- smallint_col: integer (nullable = true)\n",
      " |-- int_col: integer (nullable = true)\n",
      " |-- bigint_col: long (nullable = true)\n",
      " |-- float_col: float (nullable = true)\n",
      " |-- double_col: double (nullable = true)\n",
      " |-- date_string_col: binary (nullable = true)\n",
      " |-- string_col: binary (nullable = true)\n",
      " |-- timestamp_col: timestamp (nullable = true)\n",
      "\n",
      "The dataframe has 8 rows.\n"
     ]
    }
   ],
   "source": [
    "\"\"\"\n",
    " Parquet ingestion in a dataframe.\n",
    " Source of file: Apache Parquet project -\n",
    " https://github.com/apache/parquet-testing\n",
    " @author rambabu.posa\n",
    "\"\"\"\n",
    "from pyspark.sql import SparkSession\n",
    "import os\n",
    "\n",
    "current_dir = os.path.dirname(\"\")\n",
    "relative_path = \"alltypes_plain.parquet\"\n",
    "absolute_file_path = os.path.join(current_dir, relative_path)\n",
    "\n",
    "# Creates a session on a local master\n",
    "spark = SparkSession.builder.appName(\"Parquet to Dataframe\") \\\n",
    "    .master(\"local[*]\").getOrCreate()\n",
    "\n",
    "# Reads a Parquet file, stores it in a dataframe\n",
    "df = spark.read.format(\"parquet\") \\\n",
    "    .load(absolute_file_path)\n",
    "\n",
    "# Shows at most 10 rows from the dataframe\n",
    "df.show(10)\n",
    "df.printSchema()\n",
    "print(\"The dataframe has {} rows.\".format(df.count()))\n",
    "\n",
    "spark.stop()"
   ]
  },
  {
   "cell_type": "code",
   "execution_count": null,
   "metadata": {},
   "outputs": [],
   "source": []
  }
 ],
 "metadata": {
  "kernelspec": {
   "display_name": "Python",
   "language": "python",
   "name": "conda-env-python-py"
  },
  "language_info": {
   "codemirror_mode": {
    "name": "ipython",
    "version": 3
   },
   "file_extension": ".py",
   "mimetype": "text/x-python",
   "name": "python",
   "nbconvert_exporter": "python",
   "pygments_lexer": "ipython3",
   "version": "3.6.10"
  }
 },
 "nbformat": 4,
 "nbformat_minor": 4
}
