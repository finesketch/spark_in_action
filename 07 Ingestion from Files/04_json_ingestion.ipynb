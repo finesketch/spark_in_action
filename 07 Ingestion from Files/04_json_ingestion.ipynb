{
 "cells": [
  {
   "cell_type": "markdown",
   "metadata": {},
   "source": [
    "### json_ingestion with linearization"
   ]
  },
  {
   "cell_type": "code",
   "execution_count": 1,
   "metadata": {},
   "outputs": [
    {
     "name": "stdout",
     "output_type": "stream",
     "text": [
      "Requirement already satisfied: pyspark==2.4.5 in /home/jupyterlab/conda/envs/python/lib/python3.6/site-packages (2.4.5)\n",
      "Requirement already satisfied: py4j==0.10.7 in /home/jupyterlab/conda/envs/python/lib/python3.6/site-packages (from pyspark==2.4.5) (0.10.7)\n",
      "Apache Spark session created.\n"
     ]
    }
   ],
   "source": [
    "from IPython.display import Markdown, display\n",
    "def printmd(string):\n",
    "    display(Markdown('# <span style=\"color:red\">'+string+'</span>'))\n",
    "\n",
    "if ('sc' in locals() or 'sc' in globals()):\n",
    "    printmd('<<<<<!!!!! It seems that you are running in a IBM Watson Studio Apache Spark Notebook. Please run it in an IBM Watson Studio Default Runtime (without Apache Spark) !!!!!>>>>>')\n",
    "\n",
    "!pip install pyspark==2.4.5\n",
    "\n",
    "try:\n",
    "    from pyspark import SparkContext, SparkConf\n",
    "    from pyspark.sql import SparkSession\n",
    "except ImportError as e:\n",
    "    printmd('<<<<<!!!!! Please restart your kernel after installing Apache Spark !!!!!>>>>>')\n",
    "    \n",
    "sc = SparkContext.getOrCreate(SparkConf().setMaster(\"local[*]\"))\n",
    "\n",
    "spark = SparkSession \\\n",
    "    .builder \\\n",
    "    .getOrCreate()\n",
    "\n",
    "print(\"Apache Spark session created.\")"
   ]
  },
  {
   "cell_type": "code",
   "execution_count": 2,
   "metadata": {},
   "outputs": [
    {
     "name": "stdout",
     "output_type": "stream",
     "text": [
      "+--------------------+--------------------+--------------------+--------------------+--------------------+----+--------------------+\n",
      "|           datasetid|              fields|            geometry|    record_timestamp|            recordid|year|         coordinates|\n",
      "+--------------------+--------------------+--------------------+--------------------+--------------------+----+--------------------+\n",
      "|foreclosure-2006-...|[217 E CORPORATIO...|[[-78.8922549, 36...|2017-03-06T12:41:...|629979c85b1cc68c1...|2006|[-78.8922549, 36....|\n",
      "|foreclosure-2006-...|[401 N QUEEN ST, ...|[[-78.895396, 35....|2017-03-06T12:41:...|e3cce8bbc3c9b804c...|2006|[-78.895396, 35.9...|\n",
      "|foreclosure-2006-...|[403 N QUEEN ST, ...|[[-78.8950321, 35...|2017-03-06T12:41:...|311559ebfeffe7ebc...|2006|[-78.8950321, 35....|\n",
      "|foreclosure-2006-...|[918 GILBERT ST, ...|[[-78.8873774, 35...|2017-03-06T12:41:...|7ec0761bd385bab8a...|2006|[-78.8873774, 35....|\n",
      "|foreclosure-2006-...|[721 LIBERTY ST, ...|[[-78.888343, 35....|2017-03-06T12:41:...|c81ae2921ffca8125...|2006|[-78.888343, 35.9...|\n",
      "+--------------------+--------------------+--------------------+--------------------+--------------------+----+--------------------+\n",
      "only showing top 5 rows\n",
      "\n",
      "root\n",
      " |-- datasetid: string (nullable = true)\n",
      " |-- fields: struct (nullable = true)\n",
      " |    |-- address: string (nullable = true)\n",
      " |    |-- geocode: array (nullable = true)\n",
      " |    |    |-- element: double (containsNull = true)\n",
      " |    |-- parcel_number: string (nullable = true)\n",
      " |    |-- year: string (nullable = true)\n",
      " |-- geometry: struct (nullable = true)\n",
      " |    |-- coordinates: array (nullable = true)\n",
      " |    |    |-- element: double (containsNull = true)\n",
      " |    |-- type: string (nullable = true)\n",
      " |-- record_timestamp: string (nullable = true)\n",
      " |-- recordid: string (nullable = true)\n",
      " |-- year: string (nullable = true)\n",
      " |-- coordinates: array (nullable = true)\n",
      " |    |-- element: double (containsNull = true)\n",
      "\n"
     ]
    }
   ],
   "source": [
    "from pyspark.sql import SparkSession\n",
    "from pyspark.sql.functions import col\n",
    "import os\n",
    "\n",
    "current_dir = os.path.dirname(\"\")\n",
    "relative_path = \"durham-nc-foreclosure-2006-2016.json\"\n",
    "absolute_file_path = os.path.join(current_dir, relative_path)\n",
    "\n",
    "# Creates a session on a local master\n",
    "spark = SparkSession.builder.appName(\"SON Lines to Dataframe\") \\\n",
    "    .master(\"local[*]\").getOrCreate()\n",
    "\n",
    "# Reads a CSV file with header, called books.csv, stores it in a\n",
    "# dataframe\n",
    "df = spark.read.format(\"json\") \\\n",
    "        .load(absolute_file_path)\n",
    "\n",
    "df = df.withColumn(\"year\", col(\"fields.year\")) \\\n",
    "       .withColumn(\"coordinates\", col(\"geometry.coordinates\"))\n",
    "\n",
    "# Shows at most 5 rows from the dataframe\n",
    "df.show(5)\n",
    "df.printSchema()\n",
    "\n",
    "spark.stop()"
   ]
  },
  {
   "cell_type": "code",
   "execution_count": null,
   "metadata": {},
   "outputs": [],
   "source": []
  }
 ],
 "metadata": {
  "kernelspec": {
   "display_name": "Python",
   "language": "python",
   "name": "conda-env-python-py"
  },
  "language_info": {
   "codemirror_mode": {
    "name": "ipython",
    "version": 3
   },
   "file_extension": ".py",
   "mimetype": "text/x-python",
   "name": "python",
   "nbconvert_exporter": "python",
   "pygments_lexer": "ipython3",
   "version": "3.6.10"
  }
 },
 "nbformat": 4,
 "nbformat_minor": 4
}
