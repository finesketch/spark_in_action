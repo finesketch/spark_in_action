{
 "cells": [
  {
   "cell_type": "markdown",
   "metadata": {},
   "source": [
    "### orc_ingestion"
   ]
  },
  {
   "cell_type": "code",
   "execution_count": 1,
   "metadata": {},
   "outputs": [
    {
     "name": "stdout",
     "output_type": "stream",
     "text": [
      "Requirement already satisfied: pyspark==2.4.5 in /home/jupyterlab/conda/envs/python/lib/python3.6/site-packages (2.4.5)\n",
      "Requirement already satisfied: py4j==0.10.7 in /home/jupyterlab/conda/envs/python/lib/python3.6/site-packages (from pyspark==2.4.5) (0.10.7)\n",
      "Apache Spark session created.\n"
     ]
    }
   ],
   "source": [
    "from IPython.display import Markdown, display\n",
    "def printmd(string):\n",
    "    display(Markdown('# <span style=\"color:red\">'+string+'</span>'))\n",
    "\n",
    "if ('sc' in locals() or 'sc' in globals()):\n",
    "    printmd('<<<<<!!!!! It seems that you are running in a IBM Watson Studio Apache Spark Notebook. Please run it in an IBM Watson Studio Default Runtime (without Apache Spark) !!!!!>>>>>')\n",
    "\n",
    "!pip install pyspark==2.4.5\n",
    "\n",
    "try:\n",
    "    from pyspark import SparkContext, SparkConf\n",
    "    from pyspark.sql import SparkSession\n",
    "except ImportError as e:\n",
    "    printmd('<<<<<!!!!! Please restart your kernel after installing Apache Spark !!!!!>>>>>')\n",
    "    \n",
    "sc = SparkContext.getOrCreate(SparkConf().setMaster(\"local[*]\"))\n",
    "\n",
    "spark = SparkSession \\\n",
    "    .builder \\\n",
    "    .getOrCreate()\n",
    "\n",
    "print(\"Apache Spark session created.\")"
   ]
  },
  {
   "cell_type": "code",
   "execution_count": 2,
   "metadata": {},
   "outputs": [
    {
     "name": "stdout",
     "output_type": "stream",
     "text": [
      "+-----+-----+-----+-------+-----+-----+-----+-----+-----+\n",
      "|_col0|_col1|_col2|  _col3|_col4|_col5|_col6|_col7|_col8|\n",
      "+-----+-----+-----+-------+-----+-----+-----+-----+-----+\n",
      "|    1|    M|    M|Primary|  500| Good|    0|    0|    0|\n",
      "|    2|    F|    M|Primary|  500| Good|    0|    0|    0|\n",
      "|    3|    M|    S|Primary|  500| Good|    0|    0|    0|\n",
      "|    4|    F|    S|Primary|  500| Good|    0|    0|    0|\n",
      "|    5|    M|    D|Primary|  500| Good|    0|    0|    0|\n",
      "|    6|    F|    D|Primary|  500| Good|    0|    0|    0|\n",
      "|    7|    M|    W|Primary|  500| Good|    0|    0|    0|\n",
      "|    8|    F|    W|Primary|  500| Good|    0|    0|    0|\n",
      "|    9|    M|    U|Primary|  500| Good|    0|    0|    0|\n",
      "|   10|    F|    U|Primary|  500| Good|    0|    0|    0|\n",
      "+-----+-----+-----+-------+-----+-----+-----+-----+-----+\n",
      "only showing top 10 rows\n",
      "\n",
      "root\n",
      " |-- _col0: integer (nullable = true)\n",
      " |-- _col1: string (nullable = true)\n",
      " |-- _col2: string (nullable = true)\n",
      " |-- _col3: string (nullable = true)\n",
      " |-- _col4: integer (nullable = true)\n",
      " |-- _col5: string (nullable = true)\n",
      " |-- _col6: integer (nullable = true)\n",
      " |-- _col7: integer (nullable = true)\n",
      " |-- _col8: integer (nullable = true)\n",
      "\n",
      "The dataframe has 1920800 rows.\n"
     ]
    }
   ],
   "source": [
    "\"\"\"\n",
    " ORC ingestion in a dataframe.\n",
    " Source of file: Apache ORC project -\n",
    " https://github.com/apache/orc/tree/master/examples\n",
    " @author rambabu.posa\n",
    "\"\"\"\n",
    "from pyspark.sql import SparkSession\n",
    "import os\n",
    "\n",
    "current_dir = os.path.dirname(\"\")\n",
    "relative_path = \"demo-11-zlib.orc\"\n",
    "absolute_file_path = os.path.join(current_dir, relative_path)\n",
    "\n",
    "# Creates a session on a local master\n",
    "spark = SparkSession.builder.appName(\"ORC to Dataframe\") \\\n",
    "    .config(\"spark.sql.orc.impl\", \"native\") \\\n",
    "    .master(\"local[*]\").getOrCreate()\n",
    "\n",
    "# Reads an ORC file, stores it in a dataframe\n",
    "df = spark.read.format(\"orc\") \\\n",
    "    .load(absolute_file_path)\n",
    "\n",
    "# Shows at most 10 rows from the dataframe\n",
    "df.show(10)\n",
    "df.printSchema()\n",
    "\n",
    "print(\"The dataframe has {} rows.\".format(df.count()))\n",
    "\n",
    "spark.stop()"
   ]
  },
  {
   "cell_type": "code",
   "execution_count": null,
   "metadata": {},
   "outputs": [],
   "source": []
  }
 ],
 "metadata": {
  "kernelspec": {
   "display_name": "Python",
   "language": "python",
   "name": "conda-env-python-py"
  },
  "language_info": {
   "codemirror_mode": {
    "name": "ipython",
    "version": 3
   },
   "file_extension": ".py",
   "mimetype": "text/x-python",
   "name": "python",
   "nbconvert_exporter": "python",
   "pygments_lexer": "ipython3",
   "version": "3.6.10"
  }
 },
 "nbformat": 4,
 "nbformat_minor": 4
}
