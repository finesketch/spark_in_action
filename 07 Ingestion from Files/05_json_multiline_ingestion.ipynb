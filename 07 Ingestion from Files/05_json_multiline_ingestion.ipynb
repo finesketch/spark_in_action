{
 "cells": [
  {
   "cell_type": "markdown",
   "metadata": {},
   "source": [
    "### json_multiline_ingestion"
   ]
  },
  {
   "cell_type": "code",
   "execution_count": 1,
   "metadata": {},
   "outputs": [
    {
     "name": "stdout",
     "output_type": "stream",
     "text": [
      "Requirement already satisfied: pyspark==2.4.5 in /home/jupyterlab/conda/envs/python/lib/python3.6/site-packages (2.4.5)\n",
      "Requirement already satisfied: py4j==0.10.7 in /home/jupyterlab/conda/envs/python/lib/python3.6/site-packages (from pyspark==2.4.5) (0.10.7)\n",
      "Apache Spark session created.\n"
     ]
    }
   ],
   "source": [
    "from IPython.display import Markdown, display\n",
    "def printmd(string):\n",
    "    display(Markdown('# <span style=\"color:red\">'+string+'</span>'))\n",
    "\n",
    "if ('sc' in locals() or 'sc' in globals()):\n",
    "    printmd('<<<<<!!!!! It seems that you are running in a IBM Watson Studio Apache Spark Notebook. Please run it in an IBM Watson Studio Default Runtime (without Apache Spark) !!!!!>>>>>')\n",
    "\n",
    "!pip install pyspark==2.4.5\n",
    "\n",
    "try:\n",
    "    from pyspark import SparkContext, SparkConf\n",
    "    from pyspark.sql import SparkSession\n",
    "except ImportError as e:\n",
    "    printmd('<<<<<!!!!! Please restart your kernel after installing Apache Spark !!!!!>>>>>')\n",
    "    \n",
    "sc = SparkContext.getOrCreate(SparkConf().setMaster(\"local[*]\"))\n",
    "\n",
    "spark = SparkSession \\\n",
    "    .builder \\\n",
    "    .getOrCreate()\n",
    "\n",
    "print(\"Apache Spark session created.\")"
   ]
  },
  {
   "cell_type": "code",
   "execution_count": 2,
   "metadata": {},
   "outputs": [
    {
     "name": "stdout",
     "output_type": "stream",
     "text": [
      "+-----------------------+-----------------------+--------------------+--------------------+--------+--------------------+------------------------------------+--------------------+---+--------------------------+---------------------+\n",
      "|destination_description|entry_exit_requirements|    geopoliticalarea|              health|iso_code|    last_update_date|local_laws_and_special_circumstances| safety_and_security|tag|travel_embassyAndConsulate|travel_transportation|\n",
      "+-----------------------+-----------------------+--------------------+--------------------+--------+--------------------+------------------------------------+--------------------+---+--------------------------+---------------------+\n",
      "|   <p>The three isla...|   <p>All U.S. citiz...|Bonaire, Sint Eus...|<p>Medical care o...|        |Last Updated: Sep...|                <p>&nbsp;</p><p><...|<p>There are no k...| A1|          <div class=\"c...| <p><b>Road Condit...|\n",
      "|   <p>French Guiana ...|   <p>Visit the&nbsp...|       French Guiana|<p>Medical care w...|      GF|Last Updated: Oct...|                <p><b>Criminal Pe...|<p>French Guiana ...| A2|          <div class=\"c...| <p><b>Road Condit...|\n",
      "|   <p>See the Depart...|   <p><b>Passports a...|       St Barthelemy|<p><b>We do not p...|      BL|Last Updated: Jun...|                <p><b>Criminal Pe...|<p><b>Crime</b>: ...| A3|          <div class=\"c...| <p><b>Road Condit...|\n",
      "+-----------------------+-----------------------+--------------------+--------------------+--------+--------------------+------------------------------------+--------------------+---+--------------------------+---------------------+\n",
      "only showing top 3 rows\n",
      "\n",
      "root\n",
      " |-- destination_description: string (nullable = true)\n",
      " |-- entry_exit_requirements: string (nullable = true)\n",
      " |-- geopoliticalarea: string (nullable = true)\n",
      " |-- health: string (nullable = true)\n",
      " |-- iso_code: string (nullable = true)\n",
      " |-- last_update_date: string (nullable = true)\n",
      " |-- local_laws_and_special_circumstances: string (nullable = true)\n",
      " |-- safety_and_security: string (nullable = true)\n",
      " |-- tag: string (nullable = true)\n",
      " |-- travel_embassyAndConsulate: string (nullable = true)\n",
      " |-- travel_transportation: string (nullable = true)\n",
      "\n"
     ]
    }
   ],
   "source": [
    "from pyspark.sql import SparkSession\n",
    "import os\n",
    "\n",
    "current_dir = os.path.dirname(\"\")\n",
    "relative_path = \"countrytravelinfo.json\"\n",
    "absolute_file_path = os.path.join(current_dir, relative_path)\n",
    "\n",
    "# Creates a session on a local master\n",
    "spark = SparkSession.builder.appName(\"Multiline JSON to Dataframe\") \\\n",
    "    .master(\"local[*]\").getOrCreate()\n",
    "\n",
    "# Reads a JSON, called countrytravelinfo.json, stores it in a dataframe\n",
    "df = spark.read.format(\"json\") \\\n",
    "        .option(\"multiline\", True) \\\n",
    "        .load(absolute_file_path)\n",
    "\n",
    "# Shows at most 3 rows from the dataframe\n",
    "df.show(3)\n",
    "df.printSchema()\n",
    "\n",
    "spark.stop()"
   ]
  },
  {
   "cell_type": "code",
   "execution_count": null,
   "metadata": {},
   "outputs": [],
   "source": []
  }
 ],
 "metadata": {
  "kernelspec": {
   "display_name": "Python",
   "language": "python",
   "name": "conda-env-python-py"
  },
  "language_info": {
   "codemirror_mode": {
    "name": "ipython",
    "version": 3
   },
   "file_extension": ".py",
   "mimetype": "text/x-python",
   "name": "python",
   "nbconvert_exporter": "python",
   "pygments_lexer": "ipython3",
   "version": "3.6.10"
  }
 },
 "nbformat": 4,
 "nbformat_minor": 4
}
