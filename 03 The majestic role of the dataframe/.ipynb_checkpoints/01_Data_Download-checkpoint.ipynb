{
 "cells": [
  {
   "cell_type": "markdown",
   "metadata": {},
   "source": [
    "### Data Download"
   ]
  },
  {
   "cell_type": "code",
   "execution_count": 2,
   "metadata": {},
   "outputs": [
    {
     "name": "stdout",
     "output_type": "stream",
     "text": [
      "Restaurants_in_Durham_County_NC.csv data downloaded!\n"
     ]
    }
   ],
   "source": [
    "!wget -q -O 'Restaurants_in_Durham_County_NC.csv' https://github.com/jgperrin/net.jgp.books.spark.ch03/tree/master/data\n",
    "print('Restaurants_in_Durham_County_NC.csv data downloaded!')"
   ]
  },
  {
   "cell_type": "code",
   "execution_count": 3,
   "metadata": {},
   "outputs": [
    {
     "name": "stdout",
     "output_type": "stream",
     "text": [
      "Restaurants_in_Durham_County_NC.json data downloaded!\n"
     ]
    }
   ],
   "source": [
    "!wget -q -O 'Restaurants_in_Durham_County_NC.json' https://github.com/jgperrin/net.jgp.books.spark.ch03/tree/master/data\n",
    "print('Restaurants_in_Durham_County_NC.json data downloaded!')"
   ]
  },
  {
   "cell_type": "code",
   "execution_count": 4,
   "metadata": {},
   "outputs": [
    {
     "name": "stdout",
     "output_type": "stream",
     "text": [
      "\"Restaurants_in_Wake_County_NC.csv\" data downloaded!\n"
     ]
    }
   ],
   "source": [
    "!wget -q -O 'Restaurants_in_Wake_County_NC.csv' https://github.com/jgperrin/net.jgp.books.spark.ch03/tree/master/data\n",
    "print('\"Restaurants_in_Wake_County_NC.csv\" data downloaded!')"
   ]
  },
  {
   "cell_type": "code",
   "execution_count": 5,
   "metadata": {},
   "outputs": [
    {
     "name": "stdout",
     "output_type": "stream",
     "text": [
      "\"books.csv\" data downloaded!\n"
     ]
    }
   ],
   "source": [
    "!wget -q -O 'books.csv' https://github.com/jgperrin/net.jgp.books.spark.ch03/tree/master/data\n",
    "print('\"books.csv\" data downloaded!')"
   ]
  },
  {
   "cell_type": "code",
   "execution_count": null,
   "metadata": {},
   "outputs": [],
   "source": []
  }
 ],
 "metadata": {
  "kernelspec": {
   "display_name": "Python",
   "language": "python",
   "name": "conda-env-python-py"
  },
  "language_info": {
   "codemirror_mode": {
    "name": "ipython",
    "version": 3
   },
   "file_extension": ".py",
   "mimetype": "text/x-python",
   "name": "python",
   "nbconvert_exporter": "python",
   "pygments_lexer": "ipython3",
   "version": "3.6.10"
  }
 },
 "nbformat": 4,
 "nbformat_minor": 4
}
